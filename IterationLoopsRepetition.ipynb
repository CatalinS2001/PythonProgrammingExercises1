{
 "cells": [
  {
   "cell_type": "markdown",
   "metadata": {},
   "source": [
    "# Iteration, Loops and Repetition"
   ]
  },
  {
   "cell_type": "markdown",
   "metadata": {},
   "source": [
    "### \"looping\"\n",
    "\n",
    "Counting loops **FOR** - Gives you the number of item. Computers count from zero - Zero index. "
   ]
  },
  {
   "cell_type": "markdown",
   "metadata": {},
   "source": [
    "Conditional loops - stops on a condition. These are called while loops. The problem is that you can get an infinite loop."
   ]
  },
  {
   "cell_type": "code",
   "execution_count": 30,
   "metadata": {},
   "outputs": [
    {
     "name": "stdout",
     "output_type": "stream",
     "text": [
      "0 10 20 30 40 "
     ]
    }
   ],
   "source": [
    "for counter in range(0,50,10):\n",
    "    print(counter,end=\" \")\n",
    "\n",
    "#for is a python keyword\n",
    "#counter is a variable\n",
    "#in is also a keyword\n",
    "#range is a built in/python naive function\n",
    "#( ) are the parameters\n",
    "#Parameters - up to but not included"
   ]
  },
  {
   "cell_type": "code",
   "execution_count": 35,
   "metadata": {},
   "outputs": [
    {
     "name": "stdout",
     "output_type": "stream",
     "text": [
      "a d a   l o v e l a c e "
     ]
    }
   ],
   "source": [
    "name=\"ada lovelace\"\n",
    "\n",
    "for letter in name:\n",
    "    print(letter, end=\" \")"
   ]
  },
  {
   "cell_type": "code",
   "execution_count": 50,
   "metadata": {},
   "outputs": [
    {
     "name": "stdout",
     "output_type": "stream",
     "text": [
      "0\n",
      "1\n",
      "2\n",
      "3\n",
      "4\n",
      "5\n",
      "6\n",
      "7\n",
      "8\n",
      "9\n"
     ]
    }
   ],
   "source": [
    "for num in range(10):\n",
    "    print(num)"
   ]
  },
  {
   "cell_type": "markdown",
   "metadata": {},
   "source": [
    "# While (conditional) loops"
   ]
  },
  {
   "cell_type": "code",
   "execution_count": 6,
   "metadata": {},
   "outputs": [
    {
     "name": "stdout",
     "output_type": "stream",
     "text": [
      "Do you want to continue? Press S to stop: yyy\n",
      "Do you want to continue? Press S to stop: y\n",
      "Do you want to continue? Press S to stop: y\n",
      "Do you want to continue? Press S to stop: y\n",
      "Do you want to continue? Press S to stop: y\n",
      "Do you want to continue? Press S to stop: s\n"
     ]
    }
   ],
   "source": [
    "loopVar = \"x\"\n",
    "while loopVar != \"s\":\n",
    "    loopVar = input(\"Do you want to continue? Press S to stop: \").lower()"
   ]
  },
  {
   "cell_type": "code",
   "execution_count": 154,
   "metadata": {},
   "outputs": [
    {
     "name": "stdout",
     "output_type": "stream",
     "text": [
      "You did not win this time but you have  4 lives left\n",
      "You did not win this time but you have  3 lives left\n",
      "You did not win this time but you have  2 lives left\n",
      "You did not win this time but you have  1 lives left\n",
      "You did it boss!\n",
      "Sorry you lost fam\n"
     ]
    }
   ],
   "source": [
    "import random\n",
    "\n",
    "won = False\n",
    "lives = 5\n",
    "\n",
    "while not won and lives > 0:\n",
    "    lives = lives -1\n",
    "    x = random.randint(0,10)\n",
    "    if x == 10:\n",
    "        won = True\n",
    "        print(\"You did it boss!\")\n",
    "    else:\n",
    "        print(\"You did not win this time but you have \", lives, \"lives left\")\n",
    "    \n",
    "if lives == 0:\n",
    "    print(\"Sorry you lost fam\")"
   ]
  },
  {
   "cell_type": "code",
   "execution_count": 156,
   "metadata": {},
   "outputs": [
    {
     "name": "stdout",
     "output_type": "stream",
     "text": [
      "1*2*3*4*5*6*7*8*9*10*11*12*13*14*15*16*17*18*19*20*21*22*23*24*25*26*27*28*29*30*31*32*33*34*35*36*37*38*39*40*41*42*43*44*45*46*47*48*49*50*51*52*53*54*55*56*57*58*59*60*61*62*63*64*65*66*67*68*69*70*71*72*73*74*75*76*77*78*79*80*81*82*83*84*85*86*87*88*89*90*91*92*93*94*95*96*97*98*99*100*"
     ]
    }
   ],
   "source": [
    "#Prints out 100 numbers but they're all separated by a star\n",
    "\n",
    "for i in range(1,101):\n",
    "    print(i, end=\"*\")\n"
   ]
  },
  {
   "cell_type": "code",
   "execution_count": 5,
   "metadata": {},
   "outputs": [
    {
     "name": "stdout",
     "output_type": "stream",
     "text": [
      "Enter a message: My name is catalin\n",
      "nilatac si eman yM\n"
     ]
    }
   ],
   "source": [
    "#This will print a message backwards\n",
    "\n",
    "name = input(\"Enter a message: \")\n",
    "name = name[::-1]\n",
    "\n",
    "print (name)"
   ]
  },
  {
   "cell_type": "code",
   "execution_count": 4,
   "metadata": {},
   "outputs": [
    {
     "name": "stdout",
     "output_type": "stream",
     "text": [
      "10\n",
      "9\n",
      "8\n",
      "7\n",
      "6\n",
      "5\n",
      "4\n",
      "3\n",
      "2\n",
      "1\n",
      "Blast off!\n"
     ]
    }
   ],
   "source": [
    "x = 10\n",
    "for i in range(10):\n",
    "    print(x-i)\n",
    "\n",
    "print(\"Blast off!\")\n",
    "\n",
    "    "
   ]
  },
  {
   "cell_type": "code",
   "execution_count": 11,
   "metadata": {},
   "outputs": [
    {
     "name": "stdout",
     "output_type": "stream",
     "text": [
      "0\n",
      "7\n",
      "14\n",
      "21\n",
      "28\n",
      "35\n",
      "42\n",
      "49\n",
      "56\n",
      "63\n",
      "70\n"
     ]
    }
   ],
   "source": [
    "for i in range(0,77,7):\n",
    "    print(i)"
   ]
  },
  {
   "cell_type": "code",
   "execution_count": 17,
   "metadata": {},
   "outputs": [
    {
     "name": "stdout",
     "output_type": "stream",
     "text": [
      "0, 12, 24, 36, 48, 60, 72, 84, 96, 108, 120, 132, 144, 156, 168, 180, 192, 204, 216, 228, 240, 252, 264, 276, 288, 300, 312, 324, 336, 348, 360, 372, 384, 396, 408, 420, 432, 444, 456, 468, 480, 492, 504, 516, 528, 540, 552, 564, 576, 588, 600, 612, 624, 636, 648, 660, 672, 684, 696, 708, 720, 732, 744, 756, 768, 780, 792, 804, 816, 828, 840, 852, 864, 876, 888, 900, 912, 924, 936, 948, 960, 972, 984, 996, "
     ]
    }
   ],
   "source": [
    "for i in range(0,1000,12):\n",
    "    print(i, end=\", \")"
   ]
  },
  {
   "cell_type": "code",
   "execution_count": 28,
   "metadata": {},
   "outputs": [
    {
     "name": "stdout",
     "output_type": "stream",
     "text": [
      "0\n",
      "1\n",
      "4\n",
      "9\n",
      "16\n",
      "25\n",
      "36\n",
      "49\n",
      "64\n",
      "81\n",
      "100\n"
     ]
    }
   ],
   "source": [
    "for i in range(11):\n",
    "    print(i ** 2)"
   ]
  }
 ],
 "metadata": {
  "kernelspec": {
   "display_name": "Python 3",
   "language": "python",
   "name": "python3"
  },
  "language_info": {
   "codemirror_mode": {
    "name": "ipython",
    "version": 3
   },
   "file_extension": ".py",
   "mimetype": "text/x-python",
   "name": "python",
   "nbconvert_exporter": "python",
   "pygments_lexer": "ipython3",
   "version": "3.5.2"
  }
 },
 "nbformat": 4,
 "nbformat_minor": 2
}
