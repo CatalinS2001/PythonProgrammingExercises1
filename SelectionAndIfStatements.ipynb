{
 "cells": [
  {
   "cell_type": "markdown",
   "metadata": {},
   "source": [
    "# Selection: Making decisions: The IF/ELSE statement"
   ]
  },
  {
   "cell_type": "markdown",
   "metadata": {},
   "source": [
    "If statements are one of the most useful tools in python because it allows the user to make decisions."
   ]
  },
  {
   "cell_type": "code",
   "execution_count": 1,
   "metadata": {},
   "outputs": [
    {
     "name": "stdout",
     "output_type": "stream",
     "text": [
      "You are too young\n"
     ]
    }
   ],
   "source": [
    "#Basic IF statement\n",
    "\n",
    "name = \"fred\"\n",
    "age = 12\n",
    "if age > 10: # The \"if\" statement will determine \"if\" something is greater than 10 \n",
    "    print(\"You are too young\") # \"If\" that statement is true it will print \"you are too young\" \n",
    "else: # The \"else\" statement will print the output if the input is a number that is not above ten\n",
    "    print(\"you are old enough\")"
   ]
  },
  {
   "cell_type": "code",
   "execution_count": null,
   "metadata": {
    "collapsed": true
   },
   "outputs": [],
   "source": [
    "#Making more decisions:\n",
    "\n",
    "name =\"fred\"\n",
    "age = 12\n",
    "if age == 10:\n",
    "    print(\"You are too young\")\n",
    "elif age == 11:\n",
    "    print(\"You are still too young\")\n",
    "elif age == 12:\n",
    "    print"
   ]
  },
  {
   "cell_type": "code",
   "execution_count": null,
   "metadata": {
    "collapsed": true
   },
   "outputs": [],
   "source": [
    "weather = int(input(\"What's the temperature in degrees: \")) # The int means that the datatype must be an integer, which is a number.\n",
    "\n",
    "if weather < 10:\n",
    "    print(\"You should wear a coat and a hat\")\n",
    "elif (weather >= 10) and weather < 20:\n",
    "    print(\"You should wear a light coat and some jeans\")\n",
    "elif (weather > 20) and weather < 30:\n",
    "    print(\"Wear a T-Shirt and jeans\")\n",
    "elif weather > 30:\n",
    "    print(\"It's quite hot! Wear a T-Shirt and shorts\")\n",
    "              "
   ]
  },
  {
   "cell_type": "code",
   "execution_count": 4,
   "metadata": {},
   "outputs": [
    {
     "name": "stdout",
     "output_type": "stream",
     "text": [
      "What is your age?12\n",
      "Are you accompanied by an adult?no\n",
      "You may not watch the movie\n"
     ]
    }
   ],
   "source": [
    "# Movie\n",
    "\n",
    "movieAge = int(input(\"What is your age?\"))\n",
    "if movieAge > 18:\n",
    "    print (\"You may watch the movie.\")\n",
    "elif movieAge < 18:\n",
    "    movieAge = input(\"Are you accompanied by an adult?\") # This will rewrite the variable movieAge so that it displays a new question\n",
    "    if movieAge == \"yes\": # This is a different if statement with a different input than the previous \"movieAge\" variable \n",
    "        print(\"You may watch the movie.\")\n",
    "    elif movieAge == \"no\":\n",
    "        print(\"You may not watch the movie\")\n"
   ]
  },
  {
   "cell_type": "code",
   "execution_count": 7,
   "metadata": {},
   "outputs": [
    {
     "name": "stdout",
     "output_type": "stream",
     "text": [
      "Are you a boy?yes\n",
      "Do you like pizzayes\n",
      "You may come to the party!\n"
     ]
    }
   ],
   "source": [
    "# Party\n",
    "\n",
    "gender = input(\"Are you a boy? \").lower() # The \".lower()\" will turn the output into lowercase\n",
    "pizza = input(\"Do you like pizza \").lower()\n",
    "\n",
    "if gender == \"yes\" and pizza == \"yes\": # This will check if both gender and pizza is true\n",
    "    print(\"You may come to the party!\")\n",
    "else:\n",
    "    print(\"You may not come to the party.\")"
   ]
  },
  {
   "cell_type": "code",
   "execution_count": 8,
   "metadata": {},
   "outputs": [
    {
     "name": "stdout",
     "output_type": "stream",
     "text": [
      "What is the temperature in degrees celcius? 10\n",
      "What is the rain chance percentage? 2\n",
      "You should be fine.\n"
     ]
    }
   ],
   "source": [
    "# Temperature\n",
    "\n",
    "temperature = int(input(\"What is the temperature in degrees celcius? \"))\n",
    "chanceOfRain = int(input(\"What is the rain chance percentage? \"))\n",
    "\n",
    "if temperature > 17 and chanceOfRain > 80:\n",
    "    print(\"Don't forget your umbrella!\")\n",
    "else:\n",
    "    print(\"You should be fine.\")"
   ]
  }
 ],
 "metadata": {
  "kernelspec": {
   "display_name": "Python 3",
   "language": "python",
   "name": "python3"
  },
  "language_info": {
   "codemirror_mode": {
    "name": "ipython",
    "version": 3
   },
   "file_extension": ".py",
   "mimetype": "text/x-python",
   "name": "python",
   "nbconvert_exporter": "python",
   "pygments_lexer": "ipython3",
   "version": "3.5.2"
  }
 },
 "nbformat": 4,
 "nbformat_minor": 2
}
